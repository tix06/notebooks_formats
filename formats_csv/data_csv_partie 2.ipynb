{
 "cells": [
  {
   "cell_type": "markdown",
   "metadata": {},
   "source": [
    "# Formulaire CSV - partie 2\n",
    "## principe\n",
    "\n"
   ]
  },
  {
   "cell_type": "markdown",
   "metadata": {},
   "source": [
    "# La protection des données personnelles\n",
    "## Qu'est ce qu'on est en droit de demander lorsque l'on soumet un questionnaire ?\n",
    "Des lois européennes protègent les usagers contre une utilisation abusive de ces données.\n",
    "La CNIL : *Commission Nationale de l'Informatique et des Libertés.* C'est un organisme qui a pour mission d'informer et d'accompagner l'usager d'internet en cas de litige.\n",
    "![missions de la CNIL](datas/cnil.png)\n",
    "\n",
    "Lorsque l'on soumet un questionnaire à un public, il faut suivre certains principes qui ont pour but de protéger la vie personnelle de ce public : \n",
    "[Lien](https://www.cnil.fr/cnil-direct/question/quels-sont-les-grands-principes-des-regles-de-protection-des-donnees?visiteur=part)\n",
    "\n",
    "## Travail : recherche documentaire\n",
    "Dans la cellule suivante, vous aller ajouter des informations sur la protection des données personnelles.\n",
    "\n",
    "Vous avez vu au cours de ce TP que les données d'un formulaire sont stockées de manière durable et peuvent constituer ce que l'on appelle une *banque de données*.\n",
    "Ces données peuvent être, comme dans l'exemple, des données à *caractère personnel*.\n",
    "\n",
    "[lien CNIL](https://www.cnil.fr/fr/cnil-direct/question/une-donnee-caractere-personnel-cest-quoi)\n",
    "\n",
    "Les principes de la RGPD (règles pour la protection des données personnelles) : [Lien](https://www.cnil.fr/cnil-direct/question/quels-sont-les-grands-principes-des-regles-de-protection-des-donnees?visiteur=part)\n"
   ]
  },
  {
   "cell_type": "markdown",
   "metadata": {},
   "source": [
    "Les 5 grands principes de la protection des données personnelles : \n",
    "- Le principe de finalité\n",
    "- (à compléter)\n",
    "- \n",
    "- \n",
    "\n",
    "Parcourir l'un des exemples proposés à partir du lien : *Les droits des personnes*. \n",
    "Quels sont les points que peut contenir la notice à destination des visiteurs sur la protection de leurs données personnelles ?\n",
    "- (à compléter)\n",
    "- \n",
    "- "
   ]
  },
  {
   "cell_type": "markdown",
   "metadata": {},
   "source": [
    "# Prolongement\n",
    "On cherche à faire un traitement simple de ces données, mais cette fois, en langage python.\n",
    "\n",
    "## Ouverture du fichier\n",
    "On commence par ouvrir le fichier `monfichier.csv` avec la même méthode que celle vue lors du TP sur l'étude de la trame NMEA.\n",
    "\n",
    "Et on affiche les lignes de ce fichier."
   ]
  },
  {
   "cell_type": "code",
   "execution_count": 1,
   "metadata": {},
   "outputs": [
    {
     "name": "stdout",
     "output_type": "stream",
     "text": [
      "lignes[0] \n",
      "nom,prenom,duree\n",
      "\n",
      "lignes[1] \n",
      "Bombeur,Jean,2\n",
      "\n",
      "lignes[2] \n",
      "Nicaise,Martine,1\n",
      "\n"
     ]
    }
   ],
   "source": [
    "fichier = open('datas/monfichier.csv','r')\n",
    "\n",
    "for i,ligne in enumerate(fichier):\n",
    "                  \n",
    "    if ligne !='\\n':  #  tester si la ligne est non vide\n",
    "        print('lignes['+ str(i)+'] \\n'+ ligne) \n",
    "        \n",
    "fichier.close()  "
   ]
  },
  {
   "cell_type": "markdown",
   "metadata": {},
   "source": [
    "## Mise en forme de liste\n",
    "La librairie `csv` apporte la fonction `reader` qui permet de créer un objet itérable (clients) qui contient les lignes. \n",
    "\n",
    "Chaque élément de `ligne` (donc chaque ligne) est une liste d'éléments séparés par des virgules dans le fichier csv. \n",
    "\n",
    "On créé une nouvelle liste appelée `client` dont chaque rang correspond aux données de l'un des clients : \n",
    "\n",
    "**Executer la cellule**"
   ]
  },
  {
   "cell_type": "code",
   "execution_count": 4,
   "metadata": {},
   "outputs": [],
   "source": [
    "from csv import reader\n",
    "fichier = open('datas/monfichier.csv','r')\n",
    "client = []\n",
    "clients = reader(fichier, delimiter=',')\n",
    "\n",
    "for row in clients:\n",
    "    client.append(row)\n",
    "    \n",
    "# On supprime la première ligne (contient les en-têtes)\n",
    "del(client[0])"
   ]
  },
  {
   "cell_type": "markdown",
   "metadata": {},
   "source": [
    "**Vérification**\n",
    "\n",
    "On affiche les données du premier client : compléter la cellule suivante pour afficher à la suite le prenom, et le temps de travail."
   ]
  },
  {
   "cell_type": "code",
   "execution_count": 5,
   "metadata": {},
   "outputs": [
    {
     "name": "stdout",
     "output_type": "stream",
     "text": [
      "Données pour le 1er élève : \n",
      "['Bombeur', 'Jean', '2']\n",
      "nom : \n",
      "Bombeur\n"
     ]
    }
   ],
   "source": [
    "print(\"Données pour le 1er élève : \")\n",
    "print(client[0])\n",
    "print(\"nom : \")\n",
    "print(client[0][0])\n"
   ]
  },
  {
   "cell_type": "markdown",
   "metadata": {},
   "source": [
    "## Traitement\n",
    "Ecrire une fonction qui renvoie le numéro du client (le rang dans la liste `client` correspondant au critère de recherche. \n",
    "\n",
    "Par exemple, si on cherche l'élève qui travaille 12h par semaine, la fonction renvoie le rang du permier élève de la liste dont la valeur de la 3e colonne (duree) est égale à 12. Si aucun élève ne travaille 12h, la fonction renvoie le message : *aucun élément ne correspond au critère*.\n",
    "\n",
    "Ajouter les 2 dernières lignes à la cellule suivante, en faisant bien attention à l'indentation attendue : \n",
    "\n",
    "- la ligne qui retourne la valeur de i si la condition est vraie :\n",
    "`return i`\n",
    "\n",
    "- et la ligne qui retourne `aucun élément` si, après la recherche sur tous les clients, aucun élément ne correspond : \n",
    "`return \"aucun élément ne correspond au critère\"` "
   ]
  },
  {
   "cell_type": "code",
   "execution_count": null,
   "metadata": {},
   "outputs": [],
   "source": [
    "def tri(duree):\n",
    "    for i in range(len(client)):\n",
    "        # on convertit client[i][2] en valeur entiere et on compare \n",
    "        # avec le parametre duree\n",
    "        if int(client[i][2]) == duree:\n",
    "\n",
    "            "
   ]
  },
  {
   "cell_type": "markdown",
   "metadata": {},
   "source": [
    "- Vérifiez que votre fonction renvoie bien la bonne valeur du rang en affichant tri(1), tri(2) par exemple.\n",
    "\n",
    "- Puis afficher le nom de l'élève en utilisant le rang retourné par la fonction."
   ]
  },
  {
   "cell_type": "markdown",
   "metadata": {},
   "source": [
    "Puis on ferme le fichier : "
   ]
  },
  {
   "cell_type": "code",
   "execution_count": 7,
   "metadata": {},
   "outputs": [],
   "source": [
    "fichier.close()"
   ]
  },
  {
   "cell_type": "markdown",
   "metadata": {},
   "source": [
    "## Utiliser un site de données libres\n",
    "Quel était le prix moyen d'une maison au Royaume-Uni en 1935 ? Quand est-ce que la population estimée de l'Inde dépassera celle de la Chine ? Quels sont les projets d'aide au developpement de l'état français ? ... Les données pour répondre à beaucoup de questions comme celles-ci sont disponibles quelque part sur Internet - mais il n'est pas toujours évident de trouver les réponses. Les sites du gouvernement par exemple demandent souvent une clé d'authentification, ce qui rend l'accès aux ressources plus technique (mais possible).\n",
    "\n",
    "`NosDonnees.f` est un catalogue collaboratif de jeux de données disponibles sur Internet. Vous pouvez collecter ici des liens vers des données provenant du monde entier pour votre utilisation ou celle d'autrui, ou rechercher des jeux de données que d'autres ont collectés. Suivant le type de données (et ses conditions d'utilisation)\n",
    "\n",
    "Pour accéder à une ressource sur le site : parcourir le site à l'aide du moteur de recherche. Trouver la donnée au format voulu (ici `csv` pour les besoins du TP, mais il y en a d'autres).\n",
    "Parcourir les liens jusqu'à la page de telechargement. Copier alors le lien de téléchargement et le coller en paramètre de l'instruction `requests.get(URL de telechargement)` comme l'exemple ci dessous.\n",
    "\n",
    "Amenagements cyclables et vélos en libre service dans les grandes villes françaises\n",
    "\n",
    "* Executer la cellule suivante pour lancer le requête qui doit retourner le document `csv`\n",
    "* Si l'encodage des caractères n'est pas satisfaisant, enlever le commentaire à la 4e ligne pour permettre un encodage en `utf8`\n",
    "* Relancer alors la cellule\n",
    "* ajouter les lignes permettant d'enregistrer un fichier avec ces données (vu dans le notebook `data_csv partie `)\n",
    "\n",
    "```\n",
    "with open('datas/fichierVelos.txt', 'w') as fichier:\n",
    "    fichier.write(response.text)\n",
    "```"
   ]
  },
  {
   "cell_type": "code",
   "execution_count": null,
   "metadata": {},
   "outputs": [],
   "source": [
    "# !pip install requests\n",
    "import requests\n",
    "response= requests.get('http://www.nosdonnees.fr/storage/f/2013-04-16T130239/velo4.csv')\n",
    "print(response.status_code)\n",
    "#response.encoding = 'utf-8'  # optionnel\n",
    "print(response.text)"
   ]
  },
  {
   "cell_type": "markdown",
   "metadata": {},
   "source": [
    "## à vous de jouer\n",
    "à l'aide de vos connaissances sur le traitement des données en format `csv`, retrouver la ville dont le nombre de km de pistes cyclables est le plus important.\n",
    "\n",
    "*Remarque :* Ici, le fichier de donnée est de taille assez réduite. Mais les fichiers de données peuvent contenir des centaines de lignes. Leur lecture peut être fastidieuse pour un humain. C'est pour cela que la programmation d'une tâche automatisée peut TRES utile..."
   ]
  },
  {
   "cell_type": "code",
   "execution_count": null,
   "metadata": {},
   "outputs": [],
   "source": []
  }
 ],
 "metadata": {
  "kernelspec": {
   "display_name": "Python 3",
   "language": "python",
   "name": "python3"
  },
  "language_info": {
   "codemirror_mode": {
    "name": "ipython",
    "version": 3
   },
   "file_extension": ".py",
   "mimetype": "text/x-python",
   "name": "python",
   "nbconvert_exporter": "python",
   "pygments_lexer": "ipython3",
   "version": "3.7.1"
  }
 },
 "nbformat": 4,
 "nbformat_minor": 2
}
