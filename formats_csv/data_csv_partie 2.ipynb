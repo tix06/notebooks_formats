{
 "cells": [
  {
   "cell_type": "markdown",
   "metadata": {},
   "source": [
    "# Formulaire CSV - partie 2\n"
   ]
  },
  {
   "cell_type": "markdown",
   "metadata": {},
   "source": [
    "# Prolongement\n",
    "On cherche à faire un traitement simple de ces données, mais cette fois, en langage python.\n",
    "\n",
    "## Ouverture du fichier\n",
    "On commence par ouvrir le fichier `enquetePizza.txt`, créé dans la partie 1, avec la même méthode que celle vue lors du TP sur l'étude de la trame NMEA.\n",
    "\n",
    "Et on affiche les lignes de ce fichier."
   ]
  },
  {
   "cell_type": "code",
   "execution_count": null,
   "metadata": {},
   "outputs": [],
   "source": [
    "fichier = open('datas/enquetePizza.txt','r')\n",
    "\n",
    "for i,ligne in enumerate(fichier):\n",
    "                  \n",
    "    if ligne !='\\n':  #  tester si la ligne est non vide\n",
    "        print('lignes['+ str(i)+'] \\n'+ ligne) \n",
    "        \n",
    "fichier.close()  "
   ]
  },
  {
   "cell_type": "markdown",
   "metadata": {},
   "source": [
    "## Mise en forme de liste\n",
    "La librairie `csv` apporte la fonction `reader` qui permet de créer un objet itérable (clients) qui contient les lignes. \n",
    "\n",
    "Chaque élément de `ligne` (donc chaque ligne) est une liste d'éléments séparés par des virgules dans le fichier csv. \n",
    "\n",
    "On créé une nouvelle liste appelée `client` dont chaque rang correspond aux données de l'un des clients : \n",
    "\n",
    "**Executer la cellule**"
   ]
  },
  {
   "cell_type": "code",
   "execution_count": null,
   "metadata": {},
   "outputs": [],
   "source": [
    "from csv import reader\n",
    "fichier = open('datas/enquetePizza.txt','r')\n",
    "client = []\n",
    "clients = reader(fichier, delimiter=',')\n",
    "\n",
    "for row in clients:\n",
    "    client.append(row)\n",
    "    \n",
    "# On supprime la première ligne (contient les en-têtes)\n",
    "del(client[0])\n",
    "# on ferme le fichier\n",
    "fichier.close()"
   ]
  },
  {
   "cell_type": "markdown",
   "metadata": {},
   "source": [
    "**Vérification**\n",
    "\n",
    "On affiche les données du premier client : compléter la cellule suivante pour afficher à la suite le prenom, et le nombre de pizzas mangées."
   ]
  },
  {
   "cell_type": "code",
   "execution_count": null,
   "metadata": {},
   "outputs": [],
   "source": [
    "print(\"Données pour le 1er client : \")\n",
    "print(client[0])\n",
    "print(\"nom : \" + client[0][0])\n",
    "\n",
    "print(\"prenom : \" + client[0][1])\n",
    "\n",
    "#------------ajouter ici les lignes pour afficher le nom, le prenom et le nombre de pizzas pour le 1er client : \n"
   ]
  },
  {
   "cell_type": "markdown",
   "metadata": {},
   "source": [
    "## Rechercher un élément dans une liste\n",
    "Ecrire une fonction qui renvoie le numéro du client (le rang dans la liste `client` correspondant au critère de recherche. \n",
    "\n",
    "Par exemple, si on cherche le client qui mange 6 pizzas par mois, la fonction renvoie le rang du permier client de la liste dont la valeur de la 4e colonne, celle de rang 3 (nombre de pizzas) est égal à 6. Si aucun client ne correspond, la fonction renvoie le message : *aucun élément ne correspond au critère*.\n",
    "\n",
    "Ajouter les 2 dernières lignes à la cellule suivante, en faisant bien attention à l'indentation attendue : \n",
    "\n",
    "- la ligne qui retourne la valeur de i si la condition est vraie :\n",
    "`return i`\n",
    "\n",
    "- et la ligne qui retourne `aucun élément` si, après la recherche sur tous les clients, aucun élément ne correspond : \n",
    "`return \"aucun élément ne correspond au critère\"` "
   ]
  },
  {
   "cell_type": "code",
   "execution_count": 14,
   "metadata": {},
   "outputs": [],
   "source": [
    "def tri(nombre):\n",
    "    for i in range(len(client)):\n",
    "        # on convertit client[i][2] en valeur entiere et on compare \n",
    "        # avec le parametre duree\n",
    "        if int(client[i][3]) == nombre:\n",
    "\n",
    "            "
   ]
  },
  {
   "cell_type": "markdown",
   "metadata": {},
   "source": [
    "**Testez** alors votre fonction : tri(6) doit retourner le nombre 5 (correpond à client[5])"
   ]
  },
  {
   "cell_type": "code",
   "execution_count": null,
   "metadata": {},
   "outputs": [],
   "source": [
    "tri(6)"
   ]
  },
  {
   "cell_type": "markdown",
   "metadata": {},
   "source": [
    "## Parcours et traitement des listes\n",
    "Executer la cellule suivante.\n",
    "Ce programme, le n°1, sert-il à :\n",
    "a. rechercher le plus GRAND mangeur de pizza \n",
    "b. afficher la liste de TOUS les éléments de la liste\n",
    "c. afficher le nombre de pizzas mangées par chacun des clients ? "
   ]
  },
  {
   "cell_type": "code",
   "execution_count": null,
   "metadata": {},
   "outputs": [],
   "source": [
    "# programme n°1\n",
    "for i in client:\n",
    "    print(i)\n"
   ]
  },
  {
   "cell_type": "markdown",
   "metadata": {},
   "source": [
    "Même question pour le programme n°2 :"
   ]
  },
  {
   "cell_type": "code",
   "execution_count": null,
   "metadata": {},
   "outputs": [],
   "source": [
    "# programme n°2\n",
    "for i in client:\n",
    "    print(i[3])\n"
   ]
  },
  {
   "cell_type": "markdown",
   "metadata": {},
   "source": [
    "Même question pour le programme n°3 : "
   ]
  },
  {
   "cell_type": "code",
   "execution_count": null,
   "metadata": {},
   "outputs": [],
   "source": [
    "# programme n°3\n",
    "def recordman():\n",
    "    conso = 0\n",
    "    for i in client:\n",
    "        if int(i[3]) >= conso:\n",
    "            conso = int(i[3])\n",
    "            nom = i[0]\n",
    " \n",
    "    return nom, conso   \n",
    "recordman()\n"
   ]
  },
  {
   "cell_type": "markdown",
   "metadata": {},
   "source": [
    "## Utiliser un site de données libres\n",
    "Quel était le prix moyen d'une maison au Royaume-Uni en 1935 ? Quand est-ce que la population estimée de l'Inde dépassera celle de la Chine ? Quels sont les projets d'aide au developpement de l'état français ? ... Les données pour répondre à beaucoup de questions comme celles-ci sont disponibles quelque part sur Internet - mais il n'est pas toujours évident de trouver les réponses. Les sites du gouvernement par exemple demandent souvent une clé d'authentification, ce qui rend l'accès aux ressources plus technique (mais possible).\n",
    "\n",
    "`NosDonnees.f` est un catalogue collaboratif de jeux de données disponibles sur Internet. Vous pouvez collecter ici des liens vers des données provenant du monde entier pour votre utilisation ou celle d'autrui, ou rechercher des jeux de données que d'autres ont collectés. Suivant le type de données (et ses conditions d'utilisation)\n",
    "\n",
    "Pour accéder à une ressource sur le site : parcourir le site à l'aide du moteur de recherche. Trouver la donnée au format voulu (ici `csv` pour les besoins du TP, mais il y en a d'autres).\n",
    "Parcourir les liens jusqu'à la page de telechargement. Copier alors le lien de téléchargement et le coller en paramètre de l'instruction `requests.get(URL de telechargement)` comme l'exemple ci dessous.\n",
    "\n",
    "Amenagements cyclables et vélos en libre service dans les grandes villes françaises\n",
    "\n",
    "* Executer la cellule suivante pour lancer le requête qui doit retourner le document `csv`\n",
    "* Si l'encodage des caractères n'est pas satisfaisant, enlever le commentaire à la 4e ligne pour permettre un encodage en `utf8`\n",
    "* Relancer alors la cellule\n",
    "* ajouter les lignes permettant d'enregistrer un fichier avec ces données (vu dans le notebook `data_csv partie 1`)\n",
    "\n",
    "```\n",
    "with open('datas/fichierVelos.txt', 'w') as fichier:\n",
    "    fichier.write(response.text)\n",
    "```"
   ]
  },
  {
   "cell_type": "code",
   "execution_count": null,
   "metadata": {},
   "outputs": [],
   "source": [
    "# !pip install requests\n",
    "import requests\n",
    "response= requests.get('http://www.nosdonnees.fr/storage/f/2013-04-16T130239/velo4.csv')\n",
    "print(response.status_code)\n",
    "response.encoding = 'utf-8'  # optionnel\n",
    "print(response.text)\n"
   ]
  },
  {
   "cell_type": "markdown",
   "metadata": {},
   "source": [
    "## à vous de jouer\n",
    "à l'aide de vos connaissances sur le traitement des données en format `csv`, retrouver la ville dont le nombre de km de pistes cyclables est le plus important.\n",
    "\n",
    "*Remarque :* Ici, le fichier de donnée est de taille assez réduite. Mais les fichiers de données peuvent contenir des centaines de lignes. Leur lecture peut être fastidieuse pour un humain. C'est pour cela que la programmation d'une tâche automatisée peut TRES utile..."
   ]
  },
  {
   "cell_type": "code",
   "execution_count": null,
   "metadata": {},
   "outputs": [],
   "source": []
  }
 ],
 "metadata": {
  "kernelspec": {
   "display_name": "Python 3",
   "language": "python",
   "name": "python3"
  },
  "language_info": {
   "codemirror_mode": {
    "name": "ipython",
    "version": 3
   },
   "file_extension": ".py",
   "mimetype": "text/x-python",
   "name": "python",
   "nbconvert_exporter": "python",
   "pygments_lexer": "ipython3",
   "version": "3.7.1"
  }
 },
 "nbformat": 4,
 "nbformat_minor": 2
}
