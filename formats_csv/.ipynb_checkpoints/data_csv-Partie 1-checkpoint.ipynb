{
 "cells": [
  {
   "cell_type": "markdown",
   "metadata": {},
   "source": [
    "# Formulaire CSV\n",
    "## principe\n",
    "Un formulaire est constitué d'un ensemble de champs à compléter. Ces données sont transmises, après validation, à un serveur et enregistrées dans une *base de données*.\n",
    "\n",
    "\n",
    "## Enregistrer les données au format csv\n",
    "Pour créer un champs de reponse, on utilise la fonction python `input()`\n",
    "\n",
    "Le programme suivant créé une variable `sondage` que l'on initie avec les champs nom, prenom, duree.\n",
    "Chaque ligne correspondra à un nouvel élève. Pour chaque élève, on stocke dans le fichier son nom, prenom, ainsi que la durée de travail personnel hebdomadaire (ce qu'il fait chez lui).\n",
    "\n",
    "Une boucle permet 2 repetitions des questions : `for i in range(2):` \n",
    "On pourra adapter cette boucle avec d'autres valeurs si besoin.\n",
    "\n",
    "Une fois le fichier csv sauvegardé, il pourra être ouvert avec un logiciel tableur. Voici un exemple avec un fichier de sondage réalisé avec 7 élèves : \n",
    "\n",
    "![tableau](datas/tableau.png)\n",
    "\n",
    "## Les entrées et sortie de la console\n",
    "### Sortie\n",
    "Comme vu dans les précédents travaux pratiques, la sortie dans la console se fait avec la fonction `print()`\n",
    "> Executer la cellule suivante\n",
    "* remplacer ensuite le paramètre \"YEAH\" par celui stocké dans une variable : remplacer par les instructions suivantes le contenu de la cellule :`\n",
    "\n",
    "```\n",
    "message = 'Bonjour'\n",
    "print(message)\n",
    "print('\\n')\n",
    "message += ' tout le monde'\n",
    "message += '\\n'\n",
    "print(message)\n",
    "print('\\n')\n",
    "message += 'êtes vous prêt pour remplir ce superbe formulaire ?'\n",
    "print(message)\n",
    "```\n",
    "\n",
    "> Avez vous bien compris :\n",
    "* à quoi sert l'instruction `print('\\n')` ?\n",
    "* que signifie le symbole `+=` dans l'instruction `message += ' tout le monde'` \n",
    "* que signifie l'instruction `message += '\\n`` \n"
   ]
  },
  {
   "cell_type": "code",
   "execution_count": null,
   "metadata": {},
   "outputs": [],
   "source": [
    "print(\"YEAH\")"
   ]
  },
  {
   "cell_type": "markdown",
   "metadata": {},
   "source": [
    "### Entrée\n",
    "\n",
    "La cellule suivante illustre la manière avec laquelle on peut demander une donnée à l'utilisateur : A l'aide de la fonction `ìnput()` \n",
    "Cette fois, la console affiche une boite de texte à remplir. Et la valeur (ou la chaine de caractère) est stockée dans la variable associée.\n",
    "\n",
    "*Exemple :*\n",
    "`nom = input(\"Nom : )` cette instruction créé une boite dans laquelle on est invité à rentrer un nom. Celui ci est alors affecté à la variable `nom`.\n",
    "\n",
    "> Executer la cellule suivante et renseigner les information pour 2 élèves que vous inventerez pour les besoins de l'exercice."
   ]
  },
  {
   "cell_type": "code",
   "execution_count": null,
   "metadata": {},
   "outputs": [
    {
     "name": "stdout",
     "output_type": "stream",
     "text": [
      "\n",
      "\n"
     ]
    }
   ],
   "source": [
    "sondage = 'nom,prenom,duree\\n'\n",
    "for i in range(2):\n",
    "    print('\\n')\n",
    "    sondage += input(\"Nom: \")\n",
    "    sondage +=','\n",
    "    sondage += input('Prenom: ')\n",
    "    sondage += ','\n",
    "    print('indiquer le temps de travail personnel hebdomadaire, en heures(s)')\n",
    "    sondage += input('Durée en heures (0, 1, 2, ...): ')\n",
    "    sondage += '\\n'\n",
    "print('\\n')    \n",
    "print(sondage)"
   ]
  },
  {
   "cell_type": "markdown",
   "metadata": {},
   "source": [
    "## Enregistrer les données\n",
    "**Executer la cellule** suivante pour permettre l'enregistrement des données dans un fichier d'extension `txt`, qui aura pour nom : `monfichier.txt`. Celui ci sera mis dans le dossier `datas` : vous le trouverez à l'emplacement `datas/monfichier.txt` "
   ]
  },
  {
   "cell_type": "code",
   "execution_count": 10,
   "metadata": {},
   "outputs": [],
   "source": [
    "with open('datas/monfichier.txt', 'w') as fichier:\n",
    "    fichier.write(sondage)"
   ]
  },
  {
   "cell_type": "markdown",
   "metadata": {},
   "source": [
    "## Traitement des données\n",
    "Ouvrir un classeur vierge avec Excel\n",
    "![classeur](datas/classeur.png)\n",
    "\n",
    "Aller dans le menu Fichier : Importer (selon les versions, vous n'aurez la possibilité que de cliquer sur `Ouvrir..`)\n",
    "![menu : importer](datas/importer.png)\n",
    "\n",
    "Cocher le bouton `tous les fichiers */*` pour le type de fichier à importer.\n",
    "Selectionner le fichier créé, `datas/monfichier.txt` qui devrait se trouver dans vos documents.\n",
    "\n",
    "Parmis les options d'importation, la plus importante à repérer est celle qui demande le type de délimiteur. Choisir `virgule`. Laisser les autres options comme proposé par le logiciel.\n",
    "\n",
    "![delimiteur virgule](datas/delimiteur.png)\n",
    "\n",
    "On peut maintenant réaliser un traitement sur ces valeur, comme par exemple, ordonner les élèves selon la durée de travail personnel : \n",
    "\n",
    "Dans le bandeau Accueil : cliquer sur `Trier et filtrer`\n",
    "![trier](datas/trier.png)\n",
    "\n",
    "Choisir `tri personnalisé`\n",
    "![tri personnalisé](datas/triperson.png)\n",
    "\n",
    "Vérifier que l'option `ma liste contient des en-têtes` est cochée.\n",
    "![options](datas/options.png)\n",
    "\n",
    "* Colonne : choisir `durée`\n",
    "* Durée : choisir `du plus grand au plus petit`\n",
    "\n",
    "Rechercher alors le nom de l'élève qui a la plus capacité de travail..."
   ]
  },
  {
   "cell_type": "markdown",
   "metadata": {},
   "source": [
    "# Mini projet\n",
    "Vous allez refaire ce travail avec une nouvelle mission : \n",
    "Créer un nouveau fichier de sondage. Celui ci devra porter un nom différent et se trouver également dans le dossier datas.\n",
    "\n",
    "Vous pourrez, cette fois questionner les gros habitués des pizzerias niçoises. Vous augmenterez raisonnablement le nombre de personnes à questionner (entre 3 et 5 personnes). Vous pourrez leur demander leur nom, prénom, leur pizza préférée, et le nombre de pizzas qu'ils mangent en moyenne, chaque semaine.\n",
    "\n",
    "Ouvrir alors ce fichier avec le tableur Excel. Et rechercher le nom du plus gros mangeur.\n",
    "\n",
    "**Ecrire ce nouveau programme dans la cellule suivante :** "
   ]
  },
  {
   "cell_type": "code",
   "execution_count": null,
   "metadata": {},
   "outputs": [],
   "source": []
  },
  {
   "cell_type": "code",
   "execution_count": null,
   "metadata": {},
   "outputs": [],
   "source": []
  }
 ],
 "metadata": {
  "kernelspec": {
   "display_name": "Python 3",
   "language": "python",
   "name": "python3"
  },
  "language_info": {
   "codemirror_mode": {
    "name": "ipython",
    "version": 3
   },
   "file_extension": ".py",
   "mimetype": "text/x-python",
   "name": "python",
   "nbconvert_exporter": "python",
   "pygments_lexer": "ipython3",
   "version": "3.7.1"
  }
 },
 "nbformat": 4,
 "nbformat_minor": 2
}
